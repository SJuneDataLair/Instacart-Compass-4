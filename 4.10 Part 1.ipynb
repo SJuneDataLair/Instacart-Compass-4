{
 "cells": [
  {
   "cell_type": "markdown",
   "id": "c5acaf8a",
   "metadata": {},
   "source": [
    "# 1 Importing Libraries and Datasets"
   ]
  },
  {
   "cell_type": "code",
   "execution_count": 1,
   "id": "21278fb8",
   "metadata": {},
   "outputs": [],
   "source": [
    "#libraries\n",
    "import pandas as pd\n",
    "import numpy as np\n",
    "import os"
   ]
  },
  {
   "cell_type": "code",
   "execution_count": 2,
   "id": "09055cc8",
   "metadata": {},
   "outputs": [],
   "source": [
    "#dataset\n",
    "df=pd.read_pickle(r\"C:\\Users\\Samth\\CareerFoundry Projects\\01-Instacart Basket Analysis\\Data 02\\Manipulated Data\\projset_customers.pkl\")"
   ]
  },
  {
   "cell_type": "markdown",
   "id": "e7cc49b9",
   "metadata": {},
   "source": [
    "# 2 Analyst considerations"
   ]
  },
  {
   "cell_type": "code",
   "execution_count": 3,
   "id": "9ea91707",
   "metadata": {},
   "outputs": [
    {
     "data": {
      "text/plain": [
       "Index([                      'order_id',                        'user_id',\n",
       "                             'eval_set',                   'order_number',\n",
       "                            'order_dow',              'order_hour_of_day',\n",
       "               'days_since_prior_order',                     'product_id',\n",
       "                    'add_to_cart_order',                      'reordered',\n",
       "                               '_merge',                     'Unnamed: 0',\n",
       "                         'product_name',                       'aisle_id',\n",
       "                        'department_id',                         'prices',\n",
       "                      'price_range_loc',                    'busiest_day',\n",
       "       ('busiest_days', 'slowest_days'),                'popularity_days',\n",
       "                      'popularity_hour',                      'max_order',\n",
       "                         'loyalty_flag',                   'spender_type',\n",
       "                        'spending_flag',             'ordering_frequency',\n",
       "                       'frequency_flag',                     'First Name',\n",
       "                            'Last Name',                         'Gender',\n",
       "                                'STATE',                            'Age',\n",
       "                          'date_joined',                       'Children',\n",
       "                           'fam_status',                         'income'],\n",
       "      dtype='object')"
      ]
     },
     "execution_count": 3,
     "metadata": {},
     "output_type": "execute_result"
    }
   ],
   "source": [
    "#viewing dataset columns\n",
    "df.columns"
   ]
  },
  {
   "cell_type": "code",
   "execution_count": null,
   "id": "966601d5",
   "metadata": {},
   "outputs": [],
   "source": [
    "#viewing dataset columns\n",
    "df.head(1)"
   ]
  },
  {
   "cell_type": "markdown",
   "id": "dff25b59",
   "metadata": {},
   "source": [
    "#1 PII data in the dataframe would include Customer Name, State, Family Status, Gender, Age, Children, and Income. These columns as a whole can identify customers, in order to make it harder to identify customers, we would not need information such as customer name for our analysis, this is a column that could be deleted as User ID acts as an identifier that does not risk customer's being easily identifiable."
   ]
  },
  {
   "cell_type": "code",
   "execution_count": 3,
   "id": "d4eb4a8c",
   "metadata": {},
   "outputs": [],
   "source": [
    "#removing first and last name column for safety concerns\n",
    "df=df.drop(columns=['First Name','Last Name'])"
   ]
  },
  {
   "cell_type": "code",
   "execution_count": null,
   "id": "615bc917",
   "metadata": {},
   "outputs": [],
   "source": [
    "#confirming columns were removed\n",
    "df.columns"
   ]
  },
  {
   "cell_type": "markdown",
   "id": "b459b198",
   "metadata": {},
   "source": [
    "# 3 Task Steps"
   ]
  },
  {
   "cell_type": "markdown",
   "id": "fa97ff02",
   "metadata": {},
   "source": [
    "#creating data dictionary\n",
    "data = {\n",
    "    'States':['Maine','New Hampshire','Vermont','Massachusetts','Rhode Island','Conneticut','New York','Pennsylvania','New Jersey','Wisconsin','Michigan','Illinois','Indiana','Ohio','North Dakota','South Dakota','Nebraska','Kansas','Minnesota','Iowa','Missouri','Delaware','Maryland','District of Columbia','Virginia','West Virginia','North Carolina','South Carolina','Georgia','Florida','Kentucky','Tennessee','Mississippi','Alabama','Oklahoma','Texas','Arkansas','Louisiana','Idaho','Monatana','Wyoming','Nevada','Utah','Colorado','Arizona','New Mexico','Alaska','Washington','Oregon','California','Hawaii'],\n",
    "    'Region':['Northeast','Northeast','Northeast','Northeast','Northeast','Northeast','Northeast','Northeast','Northeast','Midwest','Midwest','Midwest','Midwest','Midwest','Midwest','Midwest','Midwest','Midwest','Midwest','Midwest','Midwest','South','South','South','South','South','South','South','South','South','South','South','South','South','South','South','South','South','West','West','West','West','West','West','West','West','Pacific','Pacific','Pacific','Pacific','Pacific'],\n",
    "}"
   ]
  },
  {
   "cell_type": "markdown",
   "id": "fff15b14",
   "metadata": {},
   "source": [
    "#calling data dictionary to view\n",
    "df1=pd.DataFrame(data)\n",
    "df1"
   ]
  },
  {
   "cell_type": "markdown",
   "id": "9e4c753f",
   "metadata": {},
   "source": [
    "#creating definition for region column\n",
    "def region_label(row):\n",
    "    if row ['Maine','New Hampshire','Vermont','Massachusetts','Rhode Island','Conneticut','New York','Pennsylvania','New Jersey'] == 1:\n",
    "        return 'Northeast'\n",
    "    if row ['Wisconsin','Michigan','Illinois','Indiana','Ohio','North Dakota','South Dakota','Nebraska','Kansas','Minnesota','Iowa','Missouri'] == 1:\n",
    "        return 'Midwest'\n",
    "    if row ['Delaware','Maryland','District of Columbia','Virginia','West Virginia','North Carolina','South Carolina','Georgia','Florida','Kentucky','Tennessee','Mississippi','Alabama','Oklahoma','Texas','Arkansas','Louisiana'] == 1:\n",
    "        return 'South'\n",
    "    if row ['Idaho','Monatana','Wyoming','Nevada','Utah','Colorado','Arizona','New Mexico'] == 1:\n",
    "        return 'West'\n",
    "    if row ['Alaska','Washington','Oregon','California','Hawaii'] == 1:\n",
    "        return 'Pacific'"
   ]
  },
  {
   "cell_type": "code",
   "execution_count": 4,
   "id": "4cd7f9a0",
   "metadata": {},
   "outputs": [],
   "source": [
    "#creating definitions for region column ALTERNATIVE due to error with data dictionary\n",
    "region_label = {\n",
    "    'Maine' : 'Northeast',\n",
    "    'New Hampshire' : 'Northeast',\n",
    "    'Vermont' : 'Northeast',\n",
    "    'Massachusetts' : 'Northeast',\n",
    "    'Rhode Island' : 'Northeast',\n",
    "    'Connecticut' : 'Northeast',\n",
    "    'New York' : 'Northeast',\n",
    "    'Pennsylvania' : 'Northeast',\n",
    "    'New Jersey' : 'Northeast',\n",
    "        'Wisconsin' : 'Midwest',\n",
    "        'Michigan' : 'Midwest',\n",
    "        'Illinois' : 'Midwest',\n",
    "        'Indiana' : 'Midwest',\n",
    "        'Ohio' : 'Midwest',\n",
    "        'North Dakota' : 'Midwest',\n",
    "        'South Dakota' : 'Midwest',\n",
    "        'Nebraska' : 'Midwest',\n",
    "        'Kansas' : 'Midwest', \n",
    "        'Minnesota' : 'Midwest', \n",
    "        'Iowa' : 'Midwest',\n",
    "        'Missouri' : 'Midwest',\n",
    "            'Delaware' : 'South',\n",
    "            'Maryland' : 'South',\n",
    "            'District of Columbia' : 'South',\n",
    "            'Virginia' : 'South',\n",
    "            'West Virginia' : 'South',\n",
    "            'North Carolina' : 'South',\n",
    "            'South Carolina' : 'South',\n",
    "            'Georgia' : 'South',\n",
    "            'Florida' : 'South',\n",
    "            'Kentucky' : 'South',\n",
    "            'Tennessee' : 'South',\n",
    "            'Mississippi' : 'South',\n",
    "            'Alabama' : 'South',\n",
    "            'Oklahoma' : 'South',\n",
    "            'Texas' : 'South',\n",
    "            'Arkansas' : 'South',\n",
    "            'Louisiana' : 'South',\n",
    "                'Idaho' : 'West',\n",
    "                'Montana' : 'West',\n",
    "                'Wyoming' : 'West',\n",
    "                'Nevada' : 'West',\n",
    "                'Utah' : 'West',\n",
    "                'Colorado' : 'West',\n",
    "                'Arizona' : 'West',\n",
    "                'New Mexico' : 'West',\n",
    "                'Alaska' : 'Pacific',\n",
    "                'Washington' : 'Pacific',\n",
    "                'Oregon' : 'Pacific',\n",
    "                'California' : 'Pacific',\n",
    "                'Hawaii' : 'Pacific'\n",
    "}   "
   ]
  },
  {
   "cell_type": "code",
   "execution_count": 151,
   "id": "d846ca05",
   "metadata": {},
   "outputs": [
    {
     "name": "stdout",
     "output_type": "stream",
     "text": [
      "{'Maine': 'Northeast', 'New Hampshire': 'Northeast', 'Vermont': 'Northeast', 'Massachusetts': 'Northeast', 'Rhode Island': 'Northeast', 'Connecticut': 'Northeast', 'New York': 'Northeast', 'Pennsylvania': 'Northeast', 'New Jersey': 'Northeast', 'Wisconsin': 'Midwest', 'Michigan': 'Midwest', 'Illinois': 'Midwest', 'Indiana': 'Midwest', 'Ohio': 'Midwest', 'North Dakota': 'Midwest', 'South Dakota': 'Midwest', 'Nebraska': 'Midwest', 'Kansas': 'Midwest', 'Minnesota': 'Midwest', 'Iowa': 'Midwest', 'Missouri': 'Midwest', 'Delaware': 'South', 'Maryland': 'South', 'District of Columbia': 'South', 'Virginia': 'South', 'West Virginia': 'South', 'North Carolina': 'South', 'South Carolina': 'South', 'Georgia': 'South', 'Florida': 'South', 'Kentucky': 'South', 'Tennessee': 'South', 'Mississippi': 'South', 'Alabama': 'South', 'Oklahoma': 'South', 'Texas': 'South', 'Arkansas': 'South', 'Louisiana': 'South', 'Idaho': 'West', 'Montana': 'West', 'Wyoming': 'West', 'Nevada': 'West', 'Utah': 'West', 'Colorado': 'West', 'Arizona': 'West', 'New Mexico': 'West', 'Alaska': 'Pacific', 'Washington': 'Pacific', 'Oregon': 'Pacific', 'California': 'Pacific', 'Hawaii': 'Pacific'}\n"
     ]
    }
   ],
   "source": [
    "#printing/viewing definition\n",
    "print(region_label)"
   ]
  },
  {
   "cell_type": "code",
   "execution_count": 5,
   "id": "fbbdfde3",
   "metadata": {},
   "outputs": [],
   "source": [
    "#applying function on new region column\n",
    "df.loc[:,'Region']=df['STATE'].map(region_label)"
   ]
  },
  {
   "cell_type": "code",
   "execution_count": null,
   "id": "b838828f",
   "metadata": {},
   "outputs": [],
   "source": [
    "#checking output to verify column was created and filled\n",
    "df['Region'].head(4)"
   ]
  },
  {
   "cell_type": "code",
   "execution_count": 7,
   "id": "e2c52fa7",
   "metadata": {},
   "outputs": [
    {
     "data": {
      "text/plain": [
       "Region\n",
       "South        2242401\n",
       "Midwest      1554517\n",
       "Northeast    1214648\n",
       "West         1074849\n",
       "Pacific       670740\n",
       "Name: count, dtype: int64"
      ]
     },
     "execution_count": 7,
     "metadata": {},
     "output_type": "execute_result"
    }
   ],
   "source": [
    "#identifying counts of all regions\n",
    "df['Region'].value_counts()"
   ]
  },
  {
   "cell_type": "markdown",
   "id": "0fa2c8ef",
   "metadata": {},
   "source": [
    "As expected, there are more customers in the Southern region as there are more states in the Southern region compared to the other regions"
   ]
  },
  {
   "cell_type": "code",
   "execution_count": 6,
   "id": "3a3cf1ef",
   "metadata": {},
   "outputs": [],
   "source": [
    "#creating crosstab to view spending habits and region\n",
    "crosstab_regionspend= pd.crosstab(df['Region'],df['spending_flag'])"
   ]
  },
  {
   "cell_type": "code",
   "execution_count": 8,
   "id": "afa7773c",
   "metadata": {},
   "outputs": [],
   "source": [
    "crosstab_regionspend.to_clipboard()"
   ]
  },
  {
   "cell_type": "code",
   "execution_count": 11,
   "id": "e3dcab0a",
   "metadata": {},
   "outputs": [
    {
     "data": {
      "text/html": [
       "<div>\n",
       "<style scoped>\n",
       "    .dataframe tbody tr th:only-of-type {\n",
       "        vertical-align: middle;\n",
       "    }\n",
       "\n",
       "    .dataframe tbody tr th {\n",
       "        vertical-align: top;\n",
       "    }\n",
       "\n",
       "    .dataframe thead th {\n",
       "        text-align: right;\n",
       "    }\n",
       "</style>\n",
       "<table border=\"1\" class=\"dataframe\">\n",
       "  <thead>\n",
       "    <tr style=\"text-align: right;\">\n",
       "      <th>spending_flag</th>\n",
       "      <th>High spender</th>\n",
       "      <th>Low spender</th>\n",
       "    </tr>\n",
       "    <tr>\n",
       "      <th>Region</th>\n",
       "      <th></th>\n",
       "      <th></th>\n",
       "    </tr>\n",
       "  </thead>\n",
       "  <tbody>\n",
       "    <tr>\n",
       "      <th>Midwest</th>\n",
       "      <td>30281</td>\n",
       "      <td>1524236</td>\n",
       "    </tr>\n",
       "    <tr>\n",
       "      <th>Northeast</th>\n",
       "      <td>22705</td>\n",
       "      <td>1191943</td>\n",
       "    </tr>\n",
       "    <tr>\n",
       "      <th>Pacific</th>\n",
       "      <td>15546</td>\n",
       "      <td>655194</td>\n",
       "    </tr>\n",
       "    <tr>\n",
       "      <th>South</th>\n",
       "      <td>44410</td>\n",
       "      <td>2197991</td>\n",
       "    </tr>\n",
       "  </tbody>\n",
       "</table>\n",
       "</div>"
      ],
      "text/plain": [
       "spending_flag  High spender  Low spender\n",
       "Region                                  \n",
       "Midwest               30281      1524236\n",
       "Northeast             22705      1191943\n",
       "Pacific               15546       655194\n",
       "South                 44410      2197991"
      ]
     },
     "execution_count": 11,
     "metadata": {},
     "output_type": "execute_result"
    }
   ],
   "source": [
    "#viewing crosstab\n",
    "crosstab_regionspend.head(4)"
   ]
  },
  {
   "cell_type": "markdown",
   "id": "ea1c6ea8",
   "metadata": {},
   "source": [
    "There does not seem to be a difference in spending habits between the regions, as spending is proportionate with the region size, all regions have more low-spenders than high spenders, this may be that most individuals using Instacart are using it for low investment items such as groceries or household supplies"
   ]
  },
  {
   "cell_type": "markdown",
   "id": "e60f7cd5",
   "metadata": {},
   "source": [
    "## Moving onto Step 4"
   ]
  },
  {
   "cell_type": "code",
   "execution_count": 12,
   "id": "e315982c",
   "metadata": {},
   "outputs": [],
   "source": [
    "#creating exclusion flag for low activity customers\n",
    "df['low_activity_flag'] = df['max_order'] <5"
   ]
  },
  {
   "cell_type": "code",
   "execution_count": 13,
   "id": "b501a722",
   "metadata": {},
   "outputs": [],
   "source": [
    "#creating dataframe with excluded low activity customers\n",
    "df_active= df[~df['low_activity_flag']]"
   ]
  },
  {
   "cell_type": "code",
   "execution_count": 14,
   "id": "d1586e8b",
   "metadata": {},
   "outputs": [
    {
     "data": {
      "text/html": [
       "<div>\n",
       "<style scoped>\n",
       "    .dataframe tbody tr th:only-of-type {\n",
       "        vertical-align: middle;\n",
       "    }\n",
       "\n",
       "    .dataframe tbody tr th {\n",
       "        vertical-align: top;\n",
       "    }\n",
       "\n",
       "    .dataframe thead th {\n",
       "        text-align: right;\n",
       "    }\n",
       "</style>\n",
       "<table border=\"1\" class=\"dataframe\">\n",
       "  <thead>\n",
       "    <tr style=\"text-align: right;\">\n",
       "      <th></th>\n",
       "      <th>order_id</th>\n",
       "      <th>user_id</th>\n",
       "      <th>eval_set</th>\n",
       "      <th>order_number</th>\n",
       "      <th>order_dow</th>\n",
       "      <th>order_hour_of_day</th>\n",
       "      <th>days_since_prior_order</th>\n",
       "      <th>product_id</th>\n",
       "      <th>add_to_cart_order</th>\n",
       "      <th>reordered</th>\n",
       "      <th>...</th>\n",
       "      <th>frequency_flag</th>\n",
       "      <th>Gender</th>\n",
       "      <th>STATE</th>\n",
       "      <th>Age</th>\n",
       "      <th>date_joined</th>\n",
       "      <th>Children</th>\n",
       "      <th>fam_status</th>\n",
       "      <th>income</th>\n",
       "      <th>Region</th>\n",
       "      <th>low_activity_flag</th>\n",
       "    </tr>\n",
       "  </thead>\n",
       "  <tbody>\n",
       "    <tr>\n",
       "      <th>0</th>\n",
       "      <td>2968173</td>\n",
       "      <td>15</td>\n",
       "      <td>prior</td>\n",
       "      <td>15</td>\n",
       "      <td>1</td>\n",
       "      <td>9</td>\n",
       "      <td>7.0</td>\n",
       "      <td>196</td>\n",
       "      <td>2</td>\n",
       "      <td>0</td>\n",
       "      <td>...</td>\n",
       "      <td>Frequent</td>\n",
       "      <td>Female</td>\n",
       "      <td>Indiana</td>\n",
       "      <td>69</td>\n",
       "      <td>6/3/2019</td>\n",
       "      <td>0</td>\n",
       "      <td>divorced/widowed</td>\n",
       "      <td>54313</td>\n",
       "      <td>Midwest</td>\n",
       "      <td>False</td>\n",
       "    </tr>\n",
       "    <tr>\n",
       "      <th>1</th>\n",
       "      <td>1911383</td>\n",
       "      <td>15</td>\n",
       "      <td>prior</td>\n",
       "      <td>18</td>\n",
       "      <td>2</td>\n",
       "      <td>11</td>\n",
       "      <td>7.0</td>\n",
       "      <td>196</td>\n",
       "      <td>1</td>\n",
       "      <td>1</td>\n",
       "      <td>...</td>\n",
       "      <td>Frequent</td>\n",
       "      <td>Female</td>\n",
       "      <td>Indiana</td>\n",
       "      <td>69</td>\n",
       "      <td>6/3/2019</td>\n",
       "      <td>0</td>\n",
       "      <td>divorced/widowed</td>\n",
       "      <td>54313</td>\n",
       "      <td>Midwest</td>\n",
       "      <td>False</td>\n",
       "    </tr>\n",
       "    <tr>\n",
       "      <th>2</th>\n",
       "      <td>2715276</td>\n",
       "      <td>15</td>\n",
       "      <td>prior</td>\n",
       "      <td>21</td>\n",
       "      <td>1</td>\n",
       "      <td>9</td>\n",
       "      <td>7.0</td>\n",
       "      <td>196</td>\n",
       "      <td>1</td>\n",
       "      <td>1</td>\n",
       "      <td>...</td>\n",
       "      <td>Frequent</td>\n",
       "      <td>Female</td>\n",
       "      <td>Indiana</td>\n",
       "      <td>69</td>\n",
       "      <td>6/3/2019</td>\n",
       "      <td>0</td>\n",
       "      <td>divorced/widowed</td>\n",
       "      <td>54313</td>\n",
       "      <td>Midwest</td>\n",
       "      <td>False</td>\n",
       "    </tr>\n",
       "  </tbody>\n",
       "</table>\n",
       "<p>3 rows × 36 columns</p>\n",
       "</div>"
      ],
      "text/plain": [
       "   order_id  user_id eval_set  order_number  order_dow  order_hour_of_day  \\\n",
       "0   2968173       15    prior            15          1                  9   \n",
       "1   1911383       15    prior            18          2                 11   \n",
       "2   2715276       15    prior            21          1                  9   \n",
       "\n",
       "   days_since_prior_order  product_id  add_to_cart_order  reordered  ...  \\\n",
       "0                     7.0         196                  2          0  ...   \n",
       "1                     7.0         196                  1          1  ...   \n",
       "2                     7.0         196                  1          1  ...   \n",
       "\n",
       "  frequency_flag  Gender    STATE  Age  date_joined  Children  \\\n",
       "0       Frequent  Female  Indiana   69     6/3/2019         0   \n",
       "1       Frequent  Female  Indiana   69     6/3/2019         0   \n",
       "2       Frequent  Female  Indiana   69     6/3/2019         0   \n",
       "\n",
       "         fam_status income   Region low_activity_flag  \n",
       "0  divorced/widowed  54313  Midwest             False  \n",
       "1  divorced/widowed  54313  Midwest             False  \n",
       "2  divorced/widowed  54313  Midwest             False  \n",
       "\n",
       "[3 rows x 36 columns]"
      ]
     },
     "execution_count": 14,
     "metadata": {},
     "output_type": "execute_result"
    }
   ],
   "source": [
    "#viewing active dataframe\n",
    "df_active.head(3)"
   ]
  },
  {
   "cell_type": "code",
   "execution_count": 15,
   "id": "449ef586",
   "metadata": {},
   "outputs": [
    {
     "data": {
      "text/plain": [
       "count    6.458346e+06\n",
       "mean     3.426182e+01\n",
       "std      2.478291e+01\n",
       "min      5.000000e+00\n",
       "25%      1.400000e+01\n",
       "50%      2.700000e+01\n",
       "75%      4.800000e+01\n",
       "max      9.900000e+01\n",
       "Name: max_order, dtype: float64"
      ]
     },
     "execution_count": 15,
     "metadata": {},
     "output_type": "execute_result"
    }
   ],
   "source": [
    "#checking max order to confirm changes\n",
    "df_active['max_order'].describe()"
   ]
  },
  {
   "cell_type": "markdown",
   "id": "fc3c1153",
   "metadata": {},
   "source": [
    "This confirms that the minimum order price in the data frame is 5$ ! "
   ]
  },
  {
   "cell_type": "code",
   "execution_count": 16,
   "id": "c88d1133",
   "metadata": {},
   "outputs": [],
   "source": [
    "#creating seperate dataframe of low active customers for CFO\n",
    "df_nonactive= df[df['low_activity_flag']]"
   ]
  },
  {
   "cell_type": "code",
   "execution_count": 17,
   "id": "c6dfe356",
   "metadata": {},
   "outputs": [
    {
     "data": {
      "text/html": [
       "<div>\n",
       "<style scoped>\n",
       "    .dataframe tbody tr th:only-of-type {\n",
       "        vertical-align: middle;\n",
       "    }\n",
       "\n",
       "    .dataframe tbody tr th {\n",
       "        vertical-align: top;\n",
       "    }\n",
       "\n",
       "    .dataframe thead th {\n",
       "        text-align: right;\n",
       "    }\n",
       "</style>\n",
       "<table border=\"1\" class=\"dataframe\">\n",
       "  <thead>\n",
       "    <tr style=\"text-align: right;\">\n",
       "      <th></th>\n",
       "      <th>order_id</th>\n",
       "      <th>user_id</th>\n",
       "      <th>eval_set</th>\n",
       "      <th>order_number</th>\n",
       "      <th>order_dow</th>\n",
       "      <th>order_hour_of_day</th>\n",
       "      <th>days_since_prior_order</th>\n",
       "      <th>product_id</th>\n",
       "      <th>add_to_cart_order</th>\n",
       "      <th>reordered</th>\n",
       "      <th>...</th>\n",
       "      <th>frequency_flag</th>\n",
       "      <th>Gender</th>\n",
       "      <th>STATE</th>\n",
       "      <th>Age</th>\n",
       "      <th>date_joined</th>\n",
       "      <th>Children</th>\n",
       "      <th>fam_status</th>\n",
       "      <th>income</th>\n",
       "      <th>Region</th>\n",
       "      <th>low_activity_flag</th>\n",
       "    </tr>\n",
       "  </thead>\n",
       "  <tbody>\n",
       "    <tr>\n",
       "      <th>433</th>\n",
       "      <td>520620</td>\n",
       "      <td>120</td>\n",
       "      <td>prior</td>\n",
       "      <td>1</td>\n",
       "      <td>3</td>\n",
       "      <td>11</td>\n",
       "      <td>NaN</td>\n",
       "      <td>196</td>\n",
       "      <td>2</td>\n",
       "      <td>0</td>\n",
       "      <td>...</td>\n",
       "      <td>Regular</td>\n",
       "      <td>Female</td>\n",
       "      <td>Kentucky</td>\n",
       "      <td>54</td>\n",
       "      <td>3/2/2017</td>\n",
       "      <td>2</td>\n",
       "      <td>married</td>\n",
       "      <td>99219</td>\n",
       "      <td>South</td>\n",
       "      <td>True</td>\n",
       "    </tr>\n",
       "    <tr>\n",
       "      <th>434</th>\n",
       "      <td>520620</td>\n",
       "      <td>120</td>\n",
       "      <td>prior</td>\n",
       "      <td>1</td>\n",
       "      <td>3</td>\n",
       "      <td>11</td>\n",
       "      <td>NaN</td>\n",
       "      <td>46149</td>\n",
       "      <td>1</td>\n",
       "      <td>0</td>\n",
       "      <td>...</td>\n",
       "      <td>Regular</td>\n",
       "      <td>Female</td>\n",
       "      <td>Kentucky</td>\n",
       "      <td>54</td>\n",
       "      <td>3/2/2017</td>\n",
       "      <td>2</td>\n",
       "      <td>married</td>\n",
       "      <td>99219</td>\n",
       "      <td>South</td>\n",
       "      <td>True</td>\n",
       "    </tr>\n",
       "    <tr>\n",
       "      <th>435</th>\n",
       "      <td>520620</td>\n",
       "      <td>120</td>\n",
       "      <td>prior</td>\n",
       "      <td>1</td>\n",
       "      <td>3</td>\n",
       "      <td>11</td>\n",
       "      <td>NaN</td>\n",
       "      <td>26348</td>\n",
       "      <td>3</td>\n",
       "      <td>0</td>\n",
       "      <td>...</td>\n",
       "      <td>Regular</td>\n",
       "      <td>Female</td>\n",
       "      <td>Kentucky</td>\n",
       "      <td>54</td>\n",
       "      <td>3/2/2017</td>\n",
       "      <td>2</td>\n",
       "      <td>married</td>\n",
       "      <td>99219</td>\n",
       "      <td>South</td>\n",
       "      <td>True</td>\n",
       "    </tr>\n",
       "  </tbody>\n",
       "</table>\n",
       "<p>3 rows × 36 columns</p>\n",
       "</div>"
      ],
      "text/plain": [
       "     order_id  user_id eval_set  order_number  order_dow  order_hour_of_day  \\\n",
       "433    520620      120    prior             1          3                 11   \n",
       "434    520620      120    prior             1          3                 11   \n",
       "435    520620      120    prior             1          3                 11   \n",
       "\n",
       "     days_since_prior_order  product_id  add_to_cart_order  reordered  ...  \\\n",
       "433                     NaN         196                  2          0  ...   \n",
       "434                     NaN       46149                  1          0  ...   \n",
       "435                     NaN       26348                  3          0  ...   \n",
       "\n",
       "    frequency_flag  Gender     STATE  Age  date_joined  Children fam_status  \\\n",
       "433        Regular  Female  Kentucky   54     3/2/2017         2    married   \n",
       "434        Regular  Female  Kentucky   54     3/2/2017         2    married   \n",
       "435        Regular  Female  Kentucky   54     3/2/2017         2    married   \n",
       "\n",
       "    income Region low_activity_flag  \n",
       "433  99219  South              True  \n",
       "434  99219  South              True  \n",
       "435  99219  South              True  \n",
       "\n",
       "[3 rows x 36 columns]"
      ]
     },
     "execution_count": 17,
     "metadata": {},
     "output_type": "execute_result"
    }
   ],
   "source": [
    "#viewing nonactive dataframe\n",
    "df_nonactive.head(3)"
   ]
  },
  {
   "cell_type": "code",
   "execution_count": 18,
   "id": "9ead4697",
   "metadata": {},
   "outputs": [
    {
     "data": {
      "text/plain": [
       "count    298809.000000\n",
       "mean          3.524512\n",
       "std           0.499400\n",
       "min           3.000000\n",
       "25%           3.000000\n",
       "50%           4.000000\n",
       "75%           4.000000\n",
       "max           4.000000\n",
       "Name: max_order, dtype: float64"
      ]
     },
     "execution_count": 18,
     "metadata": {},
     "output_type": "execute_result"
    }
   ],
   "source": [
    "#identifying shape and descriptives to confirm amount of non-active customers and order types\n",
    "df_nonactive['max_order'].describe()"
   ]
  },
  {
   "cell_type": "code",
   "execution_count": null,
   "id": "11898085",
   "metadata": {},
   "outputs": [],
   "source": [
    "df_nonactive.shape"
   ]
  },
  {
   "cell_type": "markdown",
   "id": "84e2973d",
   "metadata": {},
   "source": [
    "This shows that there are 298,809 customers that are considered nonactive, this is a good amount of our dataframe. We will export all datasets so that if needed we can use the full data, active or non active data for analysis"
   ]
  },
  {
   "cell_type": "markdown",
   "id": "4fbe638d",
   "metadata": {},
   "source": [
    "# 4 Exporting Datasets"
   ]
  },
  {
   "cell_type": "code",
   "execution_count": null,
   "id": "fc25b0f5",
   "metadata": {},
   "outputs": [],
   "source": [
    "#exporting full dataframe\n",
    "df=df.to_pickle(os.path.join(r'C:\\Users\\Samth\\CareerFoundry Projects\\01-Instacart Basket Analysis\\Data 02\\Manipulated Data\\'full_projset_clean.pkl'))"
   ]
  },
  {
   "cell_type": "code",
   "execution_count": null,
   "id": "feae3dd7",
   "metadata": {},
   "outputs": [],
   "source": [
    "#exporting nonactive dataframe\n",
    "df_nonactive=df_nonactive.to_pickle(os.path.join(r'C:\\Users\\Samth\\CareerFoundry Projects\\01-Instacart Basket Analysis\\Data 02\\Manipulated Data\\nonactive_projset.pkl'))"
   ]
  },
  {
   "cell_type": "code",
   "execution_count": null,
   "id": "2da17d53",
   "metadata": {},
   "outputs": [],
   "source": [
    "#exporting active dataframe\n",
    "df_active=df_active.to_pickle(os.path.join(r'C:\\Users\\Samth\\CareerFoundry Projects\\01-Instacart Basket Analysis\\Data 02\\Manipulated Data\\active_projset.pkl'))"
   ]
  },
  {
   "cell_type": "markdown",
   "id": "cd2e43fe",
   "metadata": {},
   "source": [
    "# 5 Steps 5 through 10"
   ]
  },
  {
   "cell_type": "code",
   "execution_count": 5,
   "id": "b3356f90",
   "metadata": {},
   "outputs": [],
   "source": [
    "#importing databases needed for illustrations\n",
    "import matplotlib.pyplot as plt\n",
    "import seaborn as sns\n",
    "import scipy"
   ]
  },
  {
   "cell_type": "code",
   "execution_count": 6,
   "id": "eb34dd11",
   "metadata": {},
   "outputs": [],
   "source": [
    "#creating profile variable\n",
    "profile_vari=['user_id','product_name','loyalty_flag','Region','fam_status','Gender','Age','Children','order_hour_of_day','price_range_loc','department_id','reordered','max_order','order_dow']"
   ]
  },
  {
   "cell_type": "markdown",
   "id": "d38ceace",
   "metadata": {},
   "source": [
    "These characteristics can help us determine what type of customer we are dealing with, whether a full-time employee or a stay at home parent, the items purchased as well as the time of day plays a big factor in determining the type of customer we are serving."
   ]
  },
  {
   "cell_type": "code",
   "execution_count": 7,
   "id": "5922d7a8",
   "metadata": {},
   "outputs": [],
   "source": [
    "#creating sample subset of full df using profile variable\n",
    "sampledf=df[profile_vari]"
   ]
  },
  {
   "cell_type": "code",
   "execution_count": 8,
   "id": "a11dc220",
   "metadata": {},
   "outputs": [],
   "source": [
    "#creating seed\n",
    "np.random.seed(7)"
   ]
  },
  {
   "cell_type": "code",
   "execution_count": 9,
   "id": "357448a4",
   "metadata": {},
   "outputs": [],
   "source": [
    "#creating dev\n",
    "dev=np.random.rand(len(sampledf)) <= 0.7"
   ]
  },
  {
   "cell_type": "code",
   "execution_count": 10,
   "id": "c4a0cba7",
   "metadata": {},
   "outputs": [],
   "source": [
    "#creating small sample using dev\n",
    "smallsamp=sampledf[~dev]"
   ]
  },
  {
   "cell_type": "code",
   "execution_count": 12,
   "id": "952105dc",
   "metadata": {},
   "outputs": [
    {
     "data": {
      "text/html": [
       "<div>\n",
       "<style scoped>\n",
       "    .dataframe tbody tr th:only-of-type {\n",
       "        vertical-align: middle;\n",
       "    }\n",
       "\n",
       "    .dataframe tbody tr th {\n",
       "        vertical-align: top;\n",
       "    }\n",
       "\n",
       "    .dataframe thead th {\n",
       "        text-align: right;\n",
       "    }\n",
       "</style>\n",
       "<table border=\"1\" class=\"dataframe\">\n",
       "  <thead>\n",
       "    <tr style=\"text-align: right;\">\n",
       "      <th></th>\n",
       "      <th>user_id</th>\n",
       "      <th>product_name</th>\n",
       "      <th>loyalty_flag</th>\n",
       "      <th>Region</th>\n",
       "      <th>fam_status</th>\n",
       "      <th>Gender</th>\n",
       "      <th>Age</th>\n",
       "      <th>Children</th>\n",
       "      <th>order_hour_of_day</th>\n",
       "      <th>price_range_loc</th>\n",
       "      <th>department_id</th>\n",
       "      <th>reordered</th>\n",
       "      <th>max_order</th>\n",
       "      <th>order_dow</th>\n",
       "    </tr>\n",
       "  </thead>\n",
       "  <tbody>\n",
       "    <tr>\n",
       "      <th>1</th>\n",
       "      <td>15</td>\n",
       "      <td>Soda</td>\n",
       "      <td>Regular customer</td>\n",
       "      <td>Midwest</td>\n",
       "      <td>divorced/widowed</td>\n",
       "      <td>Female</td>\n",
       "      <td>69</td>\n",
       "      <td>0</td>\n",
       "      <td>11</td>\n",
       "      <td>Mid-range product</td>\n",
       "      <td>7</td>\n",
       "      <td>1</td>\n",
       "      <td>22</td>\n",
       "      <td>2</td>\n",
       "    </tr>\n",
       "    <tr>\n",
       "      <th>3</th>\n",
       "      <td>15</td>\n",
       "      <td>Original Beef Jerky</td>\n",
       "      <td>Regular customer</td>\n",
       "      <td>Midwest</td>\n",
       "      <td>divorced/widowed</td>\n",
       "      <td>Female</td>\n",
       "      <td>69</td>\n",
       "      <td>0</td>\n",
       "      <td>13</td>\n",
       "      <td>Low-range product</td>\n",
       "      <td>19</td>\n",
       "      <td>0</td>\n",
       "      <td>22</td>\n",
       "      <td>5</td>\n",
       "    </tr>\n",
       "    <tr>\n",
       "      <th>4</th>\n",
       "      <td>15</td>\n",
       "      <td>Original Beef Jerky</td>\n",
       "      <td>Regular customer</td>\n",
       "      <td>Midwest</td>\n",
       "      <td>divorced/widowed</td>\n",
       "      <td>Female</td>\n",
       "      <td>69</td>\n",
       "      <td>0</td>\n",
       "      <td>11</td>\n",
       "      <td>Low-range product</td>\n",
       "      <td>19</td>\n",
       "      <td>1</td>\n",
       "      <td>22</td>\n",
       "      <td>1</td>\n",
       "    </tr>\n",
       "    <tr>\n",
       "      <th>11</th>\n",
       "      <td>15</td>\n",
       "      <td>Dried Mangos</td>\n",
       "      <td>Regular customer</td>\n",
       "      <td>Midwest</td>\n",
       "      <td>divorced/widowed</td>\n",
       "      <td>Female</td>\n",
       "      <td>69</td>\n",
       "      <td>0</td>\n",
       "      <td>11</td>\n",
       "      <td>Low-range product</td>\n",
       "      <td>19</td>\n",
       "      <td>1</td>\n",
       "      <td>22</td>\n",
       "      <td>5</td>\n",
       "    </tr>\n",
       "    <tr>\n",
       "      <th>15</th>\n",
       "      <td>15</td>\n",
       "      <td>Dried Mangos</td>\n",
       "      <td>Regular customer</td>\n",
       "      <td>Midwest</td>\n",
       "      <td>divorced/widowed</td>\n",
       "      <td>Female</td>\n",
       "      <td>69</td>\n",
       "      <td>0</td>\n",
       "      <td>9</td>\n",
       "      <td>Low-range product</td>\n",
       "      <td>19</td>\n",
       "      <td>1</td>\n",
       "      <td>22</td>\n",
       "      <td>1</td>\n",
       "    </tr>\n",
       "  </tbody>\n",
       "</table>\n",
       "</div>"
      ],
      "text/plain": [
       "    user_id         product_name      loyalty_flag   Region        fam_status  \\\n",
       "1        15                 Soda  Regular customer  Midwest  divorced/widowed   \n",
       "3        15  Original Beef Jerky  Regular customer  Midwest  divorced/widowed   \n",
       "4        15  Original Beef Jerky  Regular customer  Midwest  divorced/widowed   \n",
       "11       15         Dried Mangos  Regular customer  Midwest  divorced/widowed   \n",
       "15       15         Dried Mangos  Regular customer  Midwest  divorced/widowed   \n",
       "\n",
       "    Gender  Age  Children  order_hour_of_day    price_range_loc  \\\n",
       "1   Female   69         0                 11  Mid-range product   \n",
       "3   Female   69         0                 13  Low-range product   \n",
       "4   Female   69         0                 11  Low-range product   \n",
       "11  Female   69         0                 11  Low-range product   \n",
       "15  Female   69         0                  9  Low-range product   \n",
       "\n",
       "    department_id  reordered  max_order  order_dow  \n",
       "1               7          1         22          2  \n",
       "3              19          0         22          5  \n",
       "4              19          1         22          1  \n",
       "11             19          1         22          5  \n",
       "15             19          1         22          1  "
      ]
     },
     "execution_count": 12,
     "metadata": {},
     "output_type": "execute_result"
    }
   ],
   "source": [
    "#viewing output\n",
    "smallsamp.head()"
   ]
  },
  {
   "cell_type": "code",
   "execution_count": 123,
   "id": "cea39103",
   "metadata": {},
   "outputs": [],
   "source": [
    "#exporting sample subset\n",
    "smallsamp=smallsamp.to_pickle(os.path.join(r'C:\\Users\\Samth\\CareerFoundry Projects\\01-Instacart Basket Analysis\\Data 02\\Manipulated Data\\projset_small_profile_variables.pkl'))"
   ]
  },
  {
   "cell_type": "markdown",
   "id": "6bae15b4",
   "metadata": {},
   "source": [
    "Creating a customer profile that looks at Children, reordered and Department ID"
   ]
  },
  {
   "cell_type": "markdown",
   "id": "60977d15",
   "metadata": {},
   "source": [
    "## creating children flag"
   ]
  },
  {
   "cell_type": "code",
   "execution_count": 11,
   "id": "cd82bd10",
   "metadata": {},
   "outputs": [
    {
     "name": "stderr",
     "output_type": "stream",
     "text": [
      "C:\\Users\\Samth\\AppData\\Local\\Temp\\ipykernel_18988\\2092529703.py:2: SettingWithCopyWarning: \n",
      "A value is trying to be set on a copy of a slice from a DataFrame.\n",
      "Try using .loc[row_indexer,col_indexer] = value instead\n",
      "\n",
      "See the caveats in the documentation: https://pandas.pydata.org/pandas-docs/stable/user_guide/indexing.html#returning-a-view-versus-a-copy\n",
      "  smallsamp.loc[smallsamp['Children']> 0,'max_children']='With Children'\n"
     ]
    }
   ],
   "source": [
    "#creating children flag\n",
    "smallsamp.loc[smallsamp['Children']> 0,'max_children']='With Children'"
   ]
  },
  {
   "cell_type": "code",
   "execution_count": 12,
   "id": "3ca336c2",
   "metadata": {},
   "outputs": [],
   "source": [
    "smallsamp.loc[smallsamp['Children']<= 0,'max_children']='Without Children'"
   ]
  },
  {
   "cell_type": "code",
   "execution_count": 17,
   "id": "e7d6bcb5",
   "metadata": {},
   "outputs": [
    {
     "data": {
      "text/plain": [
       "max_children\n",
       "With Children       1519750\n",
       "Without Children     507155\n",
       "Name: count, dtype: int64"
      ]
     },
     "execution_count": 17,
     "metadata": {},
     "output_type": "execute_result"
    }
   ],
   "source": [
    "#counting output\n",
    "smallsamp['max_children'].value_counts(dropna=False)"
   ]
  },
  {
   "cell_type": "markdown",
   "id": "2a7d4fbe",
   "metadata": {},
   "source": [
    "## creating max order flag"
   ]
  },
  {
   "cell_type": "code",
   "execution_count": 18,
   "id": "dcc17f50",
   "metadata": {},
   "outputs": [
    {
     "name": "stdout",
     "output_type": "stream",
     "text": [
      "<class 'pandas.core.series.Series'>\n",
      "Index: 2026905 entries, 1 to 6757144\n",
      "Series name: reordered\n",
      "Non-Null Count    Dtype\n",
      "--------------    -----\n",
      "2026905 non-null  int64\n",
      "dtypes: int64(1)\n",
      "memory usage: 30.9 MB\n"
     ]
    }
   ],
   "source": [
    "#understanding the max order column\n",
    "smallsamp['reordered'].info()"
   ]
  },
  {
   "cell_type": "code",
   "execution_count": 19,
   "id": "a34f90e6",
   "metadata": {},
   "outputs": [
    {
     "data": {
      "text/plain": [
       "1"
      ]
     },
     "execution_count": 19,
     "metadata": {},
     "output_type": "execute_result"
    }
   ],
   "source": [
    "#checking max\n",
    "smallsamp['reordered'].max()"
   ]
  },
  {
   "cell_type": "code",
   "execution_count": 13,
   "id": "10ebeaff",
   "metadata": {},
   "outputs": [
    {
     "name": "stderr",
     "output_type": "stream",
     "text": [
      "C:\\Users\\Samth\\AppData\\Local\\Temp\\ipykernel_18988\\3343983852.py:2: SettingWithCopyWarning: \n",
      "A value is trying to be set on a copy of a slice from a DataFrame.\n",
      "Try using .loc[row_indexer,col_indexer] = value instead\n",
      "\n",
      "See the caveats in the documentation: https://pandas.pydata.org/pandas-docs/stable/user_guide/indexing.html#returning-a-view-versus-a-copy\n",
      "  smallsamp.loc[smallsamp['reordered']>0,'essentials']='Essential Item'\n"
     ]
    }
   ],
   "source": [
    "#creating groups based on reorders\n",
    "smallsamp.loc[smallsamp['reordered']>0,'essentials']='Essential Item'\n",
    "smallsamp.loc[smallsamp['reordered']<=0,'essentials']='Non-Essential Item'"
   ]
  },
  {
   "cell_type": "code",
   "execution_count": 16,
   "id": "2acf131d",
   "metadata": {},
   "outputs": [
    {
     "data": {
      "text/plain": [
       "essentials\n",
       "Essential Item        1195180\n",
       "Non-Essential Item     831725\n",
       "Name: count, dtype: int64"
      ]
     },
     "execution_count": 16,
     "metadata": {},
     "output_type": "execute_result"
    }
   ],
   "source": [
    "#counting output\n",
    "smallsamp['essentials'].value_counts(dropna=False)"
   ]
  },
  {
   "cell_type": "code",
   "execution_count": 17,
   "id": "9a72c8ce",
   "metadata": {},
   "outputs": [],
   "source": [
    "#creating percentages\n",
    "per_essentials=smallsamp['essentials'].value_counts(normalize=True*100)"
   ]
  },
  {
   "cell_type": "code",
   "execution_count": 42,
   "id": "93785dca",
   "metadata": {},
   "outputs": [],
   "source": [
    "#creating labels for chart\n",
    "label=smallsamp['essentials'].value_counts().index"
   ]
  },
  {
   "cell_type": "code",
   "execution_count": 43,
   "id": "ac8b6751",
   "metadata": {},
   "outputs": [
    {
     "data": {
      "text/plain": [
       "([<matplotlib.patches.Wedge at 0x20615067650>,\n",
       "  <matplotlib.patches.Wedge at 0x2061506a210>],\n",
       " [Text(-0.30575378791355134, 1.0566525546159982, 'Essential Item'),\n",
       "  Text(0.3057536889825981, -1.0566525832427294, 'Non-Essential Item')],\n",
       " [Text(-0.16677479340739162, 0.5763559388814535, '59.0%'),\n",
       "  Text(0.1667747394450535, -0.576355954496034, '41.0%')])"
      ]
     },
     "execution_count": 43,
     "metadata": {},
     "output_type": "execute_result"
    },
    {
     "data": {
      "image/png": "[encoded data removed]",
      "text/plain": [
       "<Figure size 640x480 with 1 Axes>"
      ]
     },
     "metadata": {},
     "output_type": "display_data"
    }
   ],
   "source": [
    "#creating pie chart to demonstrate relationship between reorders vs no reorders\n",
    "essentialpie=plt.pie(per_essentials, colors=['orange','yellow'])\n",
    "plt.title('Those Who Try It & Those Who Try Again')\n",
    "plt.pie(per_essentials,labels=label,autopct='%1.1f%%')\n"
   ]
  },
  {
   "cell_type": "markdown",
   "id": "1cc7b46f",
   "metadata": {},
   "source": [
    "Customers are more likely to reorder an item on instacart after ordering it once, this demonstrates the essential role instacart can play in a customer's day to day"
   ]
  },
  {
   "cell_type": "code",
   "execution_count": 52,
   "id": "4d1440ea",
   "metadata": {},
   "outputs": [
    {
     "data": {
      "image/png": "[encoded data removed]",
      "text/plain": [
       "<Figure size 640x480 with 1 Axes>"
      ]
     },
     "metadata": {},
     "output_type": "display_data"
    }
   ],
   "source": [
    "#saving pie\n",
    "essentialpie=plt.pie(per_essentials, colors=['orange','yellow'])\n",
    "plt.title('Those Who Try It & Those Who Try Again')\n",
    "plt.pie(per_essentials,labels=label,autopct='%1.1f%%')\n",
    "plt.savefig(os.path.join(r'C:\\Users\\Samth\\CareerFoundry Projects\\01-Instacart Basket Analysis\\Analysis 04\\Visualizations\\essentials_pie.png'))"
   ]
  },
  {
   "cell_type": "markdown",
   "id": "ede4de4f",
   "metadata": {},
   "source": [
    "## creating department id flag"
   ]
  },
  {
   "cell_type": "code",
   "execution_count": 53,
   "id": "7bae825f",
   "metadata": {},
   "outputs": [
    {
     "name": "stdout",
     "output_type": "stream",
     "text": [
      "<class 'pandas.core.series.Series'>\n",
      "Index: 2026905 entries, 1 to 6757144\n",
      "Series name: department_id\n",
      "Non-Null Count    Dtype\n",
      "--------------    -----\n",
      "2026905 non-null  int64\n",
      "dtypes: int64(1)\n",
      "memory usage: 30.9 MB\n"
     ]
    }
   ],
   "source": [
    "#understanding department column\n",
    "smallsamp['department_id'].info()"
   ]
  },
  {
   "cell_type": "code",
   "execution_count": 14,
   "id": "300346ab",
   "metadata": {},
   "outputs": [],
   "source": [
    "#defining departments\n",
    "departmentdict= {\n",
    "                            1: 'frozen',\n",
    "                            2: 'other',\n",
    "                            3: 'bakery',\n",
    "                            4: 'produce',\n",
    "                            5: 'alcohol',\n",
    "                            6: 'international',\n",
    "                            7: 'beverages',\n",
    "                            8: 'pets',\n",
    "                            9: 'dry goods pasta',\n",
    "                            10: 'bulk',\n",
    "                            11: 'personal care',\n",
    "                            12: 'meat seafood',\n",
    "                            13: 'pantry',\n",
    "                            14: 'breakfast',\n",
    "                            15: 'canned goods',\n",
    "                            16: 'dairy eggs',\n",
    "                            17: 'household',\n",
    "                            18: 'babies',\n",
    "                            19: 'snacks',\n",
    "                            20: 'deli',\n",
    "                                                    }"
   ]
  },
  {
   "cell_type": "code",
   "execution_count": 15,
   "id": "e4cbd7e0",
   "metadata": {},
   "outputs": [
    {
     "name": "stderr",
     "output_type": "stream",
     "text": [
      "C:\\Users\\Samth\\AppData\\Local\\Temp\\ipykernel_18988\\3177055690.py:2: SettingWithCopyWarning: \n",
      "A value is trying to be set on a copy of a slice from a DataFrame.\n",
      "Try using .loc[row_indexer,col_indexer] = value instead\n",
      "\n",
      "See the caveats in the documentation: https://pandas.pydata.org/pandas-docs/stable/user_guide/indexing.html#returning-a-view-versus-a-copy\n",
      "  smallsamp['department_names']=smallsamp['department_id'].map(departmentdict).fillna('NA')\n"
     ]
    }
   ],
   "source": [
    "#creating department names column\n",
    "smallsamp['department_names']=smallsamp['department_id'].map(departmentdict).fillna('NA')"
   ]
  },
  {
   "cell_type": "code",
   "execution_count": 64,
   "id": "4f04864c",
   "metadata": {},
   "outputs": [
    {
     "data": {
      "text/plain": [
       "Index(['user_id', 'product_name', 'loyalty_flag', 'Region', 'fam_status',\n",
       "       'Gender', 'Age', 'Children', 'order_hour_of_day', 'price_range_loc',\n",
       "       'department_id', 'reordered', 'max_order', 'max_children', 'essentials',\n",
       "       'department_names'],\n",
       "      dtype='object')"
      ]
     },
     "execution_count": 64,
     "metadata": {},
     "output_type": "execute_result"
    }
   ],
   "source": [
    "#viewing columns to ensure new column exists\n",
    "smallsamp.columns"
   ]
  },
  {
   "cell_type": "code",
   "execution_count": 65,
   "id": "e1606854",
   "metadata": {},
   "outputs": [
    {
     "data": {
      "text/plain": [
       "department_names\n",
       "produce            592348\n",
       "dairy eggs         337574\n",
       "snacks             180350\n",
       "beverages          168997\n",
       "frozen             138573\n",
       "pantry             117023\n",
       "bakery              74136\n",
       "canned goods        67094\n",
       "deli                66183\n",
       "dry goods pasta     54209\n",
       "household           45827\n",
       "meat seafood        44566\n",
       "breakfast           44166\n",
       "personal care       28411\n",
       "babies              25998\n",
       "international       16900\n",
       "alcohol              9730\n",
       "pets                 5793\n",
       "NA                   4391\n",
       "other                2354\n",
       "bulk                 2283\n",
       "Name: count, dtype: int64"
      ]
     },
     "execution_count": 65,
     "metadata": {},
     "output_type": "execute_result"
    }
   ],
   "source": [
    "#vieiwng output of department column\n",
    "smallsamp['department_names'].value_counts(dropna=False)"
   ]
  },
  {
   "cell_type": "markdown",
   "id": "cbb0c5e5",
   "metadata": {},
   "source": [
    "## viewing departments different customer types shop at"
   ]
  },
  {
   "cell_type": "code",
   "execution_count": 66,
   "id": "a2581c18",
   "metadata": {},
   "outputs": [
    {
     "data": {
      "text/plain": [
       "loyalty_flag\n",
       "Regular customer    1002462\n",
       "Loyal customer       636599\n",
       "New customer         387844\n",
       "NaN                       1\n",
       "Name: count, dtype: int64"
      ]
     },
     "execution_count": 66,
     "metadata": {},
     "output_type": "execute_result"
    }
   ],
   "source": [
    "#reviewing the different types of customers\n",
    "smallsamp['loyalty_flag'].value_counts(dropna=False)"
   ]
  },
  {
   "cell_type": "code",
   "execution_count": 83,
   "id": "ea46c003",
   "metadata": {},
   "outputs": [],
   "source": [
    "#grouping by departments and loyalty flag\n",
    "department_customers=smallsamp.groupby(['department_names','loyalty_flag']).size().unstack()"
   ]
  },
  {
   "cell_type": "code",
   "execution_count": 84,
   "id": "18aa9ce3",
   "metadata": {},
   "outputs": [
    {
     "data": {
      "text/html": [
       "<div>\n",
       "<style scoped>\n",
       "    .dataframe tbody tr th:only-of-type {\n",
       "        vertical-align: middle;\n",
       "    }\n",
       "\n",
       "    .dataframe tbody tr th {\n",
       "        vertical-align: top;\n",
       "    }\n",
       "\n",
       "    .dataframe thead th {\n",
       "        text-align: right;\n",
       "    }\n",
       "</style>\n",
       "<table border=\"1\" class=\"dataframe\">\n",
       "  <thead>\n",
       "    <tr style=\"text-align: right;\">\n",
       "      <th>loyalty_flag</th>\n",
       "      <th>Loyal customer</th>\n",
       "      <th>New customer</th>\n",
       "      <th>Regular customer</th>\n",
       "    </tr>\n",
       "    <tr>\n",
       "      <th>department_names</th>\n",
       "      <th></th>\n",
       "      <th></th>\n",
       "      <th></th>\n",
       "    </tr>\n",
       "  </thead>\n",
       "  <tbody>\n",
       "    <tr>\n",
       "      <th>NA</th>\n",
       "      <td>1106</td>\n",
       "      <td>1078</td>\n",
       "      <td>2206</td>\n",
       "    </tr>\n",
       "    <tr>\n",
       "      <th>alcohol</th>\n",
       "      <td>2671</td>\n",
       "      <td>2223</td>\n",
       "      <td>4836</td>\n",
       "    </tr>\n",
       "    <tr>\n",
       "      <th>babies</th>\n",
       "      <td>9891</td>\n",
       "      <td>3930</td>\n",
       "      <td>12177</td>\n",
       "    </tr>\n",
       "    <tr>\n",
       "      <th>bakery</th>\n",
       "      <td>24286</td>\n",
       "      <td>13954</td>\n",
       "      <td>35896</td>\n",
       "    </tr>\n",
       "    <tr>\n",
       "      <th>beverages</th>\n",
       "      <td>52530</td>\n",
       "      <td>32169</td>\n",
       "      <td>84298</td>\n",
       "    </tr>\n",
       "  </tbody>\n",
       "</table>\n",
       "</div>"
      ],
      "text/plain": [
       "loyalty_flag      Loyal customer  New customer  Regular customer\n",
       "department_names                                                \n",
       "NA                          1106          1078              2206\n",
       "alcohol                     2671          2223              4836\n",
       "babies                      9891          3930             12177\n",
       "bakery                     24286         13954             35896\n",
       "beverages                  52530         32169             84298"
      ]
     },
     "execution_count": 84,
     "metadata": {},
     "output_type": "execute_result"
    }
   ],
   "source": [
    "#viewing output\n",
    "department_customers.head()"
   ]
  },
  {
   "cell_type": "code",
   "execution_count": 85,
   "id": "d39f93e3",
   "metadata": {},
   "outputs": [],
   "source": [
    "#sorting results\n",
    "department_customers=department_customers.sort_values(by='Loyal customer',ascending=False)"
   ]
  },
  {
   "cell_type": "code",
   "execution_count": 89,
   "id": "7da7a6be",
   "metadata": {},
   "outputs": [
    {
     "data": {
      "image/png": "[encoded data removed]",
      "text/plain": [
       "<Figure size 640x480 with 1 Axes>"
      ]
     },
     "metadata": {},
     "output_type": "display_data"
    }
   ],
   "source": [
    "#creating and saving bar chart to view departments and loyalty flags\n",
    "department_customer_bar=department_customers.plot(kind='bar',stacked= True, color=['blue','orange','yellow'])\n",
    "plt.xlabel('Departments')\n",
    "plt.ylabel('Orders')\n",
    "plt.title ('The New, The Regular, and the Loyal: Department Preferences')\n",
    "plt.savefig(os.path.join(r'C:\\Users\\Samth\\CareerFoundry Projects\\01-Instacart Basket Analysis\\Analysis 04\\Visualizations\\stacked_customer_dept.png'))"
   ]
  },
  {
   "cell_type": "markdown",
   "id": "303b820c",
   "metadata": {},
   "source": [
    "All customer types use Instacart to order grocery items, produce and dairy ranking the highest in order amounts. This information, along with the information of most popular order hour of day could help the marketing team create promotions during peak hours to encourage more purchases, such as a happy hour promotion on Sundays where from 6 am to 9 am customers receive 20% off on on produce (oranges, etc) if paired with an item from the alcohol or breakfast department which will encourage department sales across the board."
   ]
  },
  {
   "cell_type": "markdown",
   "id": "87458651",
   "metadata": {},
   "source": [
    "## continuing step 5 and 6"
   ]
  },
  {
   "cell_type": "markdown",
   "id": "68c45eb4",
   "metadata": {},
   "source": [
    "I will examine my profile looking at different variables in the profile variables to compare their relationships with one another and examine the impacts of the different items"
   ]
  },
  {
   "cell_type": "code",
   "execution_count": 90,
   "id": "910e9952",
   "metadata": {},
   "outputs": [],
   "source": [
    "#creating font, code found online\n",
    "font2 = {'family':'serif','color':'darkred','size':15}"
   ]
  },
  {
   "cell_type": "code",
   "execution_count": 92,
   "id": "ff158273",
   "metadata": {},
   "outputs": [
    {
     "data": {
      "image/png": "[encoded data removed]",
      "text/plain": [
       "<Figure size 640x480 with 1 Axes>"
      ]
     },
     "metadata": {},
     "output_type": "display_data"
    }
   ],
   "source": [
    "#determining the relationship between Family Status and Order Hour\n",
    "famline=sns.lineplot(x='order_hour_of_day',y='Children',data=smallsamp)\n",
    "plt.xlabel('Time of Day', fontdict= font2)\n",
    "plt.ylabel('Children', fontdict=font2)\n",
    "plt.title ('When Parents Need Instacart the Most', fontdict=font2)\n",
    "plt.savefig(os.path.join(r'C:\\Users\\Samth\\CareerFoundry Projects\\01-Instacart Basket Analysis\\Analysis 04\\Visualizations\\parents_need_line.png'))"
   ]
  },
  {
   "cell_type": "markdown",
   "id": "1643550a",
   "metadata": {},
   "source": [
    "As the amount of children in the home increase, customers are more likely to make orders in the late night to early morning, this may be due to young parents or families with many children having to deal with late night/early morning wake ups and emergencies"
   ]
  },
  {
   "cell_type": "markdown",
   "id": "69bf8e39",
   "metadata": {},
   "source": [
    "## Step 7 "
   ]
  },
  {
   "cell_type": "code",
   "execution_count": 20,
   "id": "0b4385e8",
   "metadata": {},
   "outputs": [],
   "source": [
    "#agg a customer profile for usage frequency and expenditure\n",
    "agg_customer_profile=smallsamp.groupby('user_id').agg({'Children':['max','mean','min'],\n",
    "                                                      'max_order':['max','mean','min'],\n",
    "                                                      'Age':['max','mean','min']}).reset_index()"
   ]
  },
  {
   "cell_type": "code",
   "execution_count": 109,
   "id": "a9fed055",
   "metadata": {},
   "outputs": [
    {
     "data": {
      "text/plain": [
       "MultiIndex([(  'user_id',     ''),\n",
       "            ( 'Children',  'max'),\n",
       "            ( 'Children', 'mean'),\n",
       "            ( 'Children',  'min'),\n",
       "            ('max_order',  'max'),\n",
       "            ('max_order', 'mean'),\n",
       "            ('max_order',  'min'),\n",
       "            (      'Age',  'max'),\n",
       "            (      'Age', 'mean'),\n",
       "            (      'Age',  'min')],\n",
       "           )"
      ]
     },
     "execution_count": 109,
     "metadata": {},
     "output_type": "execute_result"
    }
   ],
   "source": [
    "#viewing columns of profile\n",
    "agg_customer_profile.columns"
   ]
  },
  {
   "cell_type": "code",
   "execution_count": 111,
   "id": "45679590",
   "metadata": {},
   "outputs": [],
   "source": [
    "#renaming columns of profile\n",
    "agg_customer_profile.columns=['user_id','max_children','avg_children','min_children','max_order','avg_order','min_order','max_age','avg_age','min_age']"
   ]
  },
  {
   "cell_type": "code",
   "execution_count": 112,
   "id": "ea51b234",
   "metadata": {},
   "outputs": [
    {
     "data": {
      "text/plain": [
       "Index(['user_id', 'max_children', 'avg_children', 'min_children', 'max_order',\n",
       "       'avg_order', 'min_order', 'max_age', 'avg_age', 'min_age'],\n",
       "      dtype='object')"
      ]
     },
     "execution_count": 112,
     "metadata": {},
     "output_type": "execute_result"
    }
   ],
   "source": [
    "#viewing new column names\n",
    "agg_customer_profile.columns"
   ]
  },
  {
   "cell_type": "code",
   "execution_count": 113,
   "id": "420623c0",
   "metadata": {},
   "outputs": [
    {
     "data": {
      "text/html": [
       "<div>\n",
       "<style scoped>\n",
       "    .dataframe tbody tr th:only-of-type {\n",
       "        vertical-align: middle;\n",
       "    }\n",
       "\n",
       "    .dataframe tbody tr th {\n",
       "        vertical-align: top;\n",
       "    }\n",
       "\n",
       "    .dataframe thead th {\n",
       "        text-align: right;\n",
       "    }\n",
       "</style>\n",
       "<table border=\"1\" class=\"dataframe\">\n",
       "  <thead>\n",
       "    <tr style=\"text-align: right;\">\n",
       "      <th></th>\n",
       "      <th>user_id</th>\n",
       "      <th>max_children</th>\n",
       "      <th>avg_children</th>\n",
       "      <th>min_children</th>\n",
       "      <th>max_order</th>\n",
       "      <th>avg_order</th>\n",
       "      <th>min_order</th>\n",
       "      <th>max_age</th>\n",
       "      <th>avg_age</th>\n",
       "      <th>min_age</th>\n",
       "    </tr>\n",
       "  </thead>\n",
       "  <tbody>\n",
       "    <tr>\n",
       "      <th>0</th>\n",
       "      <td>2.0</td>\n",
       "      <td>3.0</td>\n",
       "      <td>3.0</td>\n",
       "      <td>3.0</td>\n",
       "      <td>14.0</td>\n",
       "      <td>14.0</td>\n",
       "      <td>14.0</td>\n",
       "      <td>68.0</td>\n",
       "      <td>68.0</td>\n",
       "      <td>68.0</td>\n",
       "    </tr>\n",
       "    <tr>\n",
       "      <th>1</th>\n",
       "      <td>12.0</td>\n",
       "      <td>0.0</td>\n",
       "      <td>0.0</td>\n",
       "      <td>0.0</td>\n",
       "      <td>5.0</td>\n",
       "      <td>5.0</td>\n",
       "      <td>5.0</td>\n",
       "      <td>46.0</td>\n",
       "      <td>46.0</td>\n",
       "      <td>46.0</td>\n",
       "    </tr>\n",
       "  </tbody>\n",
       "</table>\n",
       "</div>"
      ],
      "text/plain": [
       "   user_id  max_children  avg_children  min_children  max_order  avg_order  \\\n",
       "0      2.0           3.0           3.0           3.0       14.0       14.0   \n",
       "1     12.0           0.0           0.0           0.0        5.0        5.0   \n",
       "\n",
       "   min_order  max_age  avg_age  min_age  \n",
       "0       14.0     68.0     68.0     68.0  \n",
       "1        5.0     46.0     46.0     46.0  "
      ]
     },
     "execution_count": 113,
     "metadata": {},
     "output_type": "execute_result"
    }
   ],
   "source": [
    "#vieiwng output\n",
    "agg_customer_profile.head(2)"
   ]
  },
  {
   "cell_type": "markdown",
   "id": "15c4dcd0",
   "metadata": {},
   "source": [
    "## step 8 and 9 customer profiles, regions and possible links"
   ]
  },
  {
   "cell_type": "code",
   "execution_count": 48,
   "id": "26d9ae3d",
   "metadata": {
    "scrolled": true
   },
   "outputs": [
    {
     "data": {
      "image/png": "[encoded data removed]",
      "text/plain": [
       "<Figure size 640x480 with 1 Axes>"
      ]
     },
     "metadata": {},
     "output_type": "display_data"
    }
   ],
   "source": [
    "#comparing regions and order day of week\n",
    "regionday = smallsamp.groupby('Region')['order_dow'].value_counts().plot.bar(title = 'Order Days by Region', xlabel = 'Day', ylabel = 'Orders',color=['orange']* 7 + ['blue'] * 7 + ['yellow'] * 7 + ['teal'] * 7 + ['#00d6a1'] * 7)\n",
    "plt.savefig(os.path.join(r'C:\\Users\\Samth\\CareerFoundry Projects\\01-Instacart Basket Analysis\\Analysis 04\\Visualizations\\region_days_bar.png'))\n"
   ]
  },
  {
   "cell_type": "markdown",
   "id": "ac3dc0c3",
   "metadata": {},
   "source": [
    "Across the board, all regions send out the most orders on Saturdays and Sundays, and the least on Tuesdays and Wednesdays respectively."
   ]
  },
  {
   "cell_type": "code",
   "execution_count": 16,
   "id": "33ad2e15",
   "metadata": {},
   "outputs": [],
   "source": [
    "#comparing regions and loyalty types\n",
    "region_customers=smallsamp.groupby(['Region','loyalty_flag']).size().unstack()"
   ]
  },
  {
   "cell_type": "code",
   "execution_count": 17,
   "id": "9e0a8d64",
   "metadata": {},
   "outputs": [],
   "source": [
    "#sorting \n",
    "region_customers=region_customers.sort_values(by='Loyal customer', ascending=False)"
   ]
  },
  {
   "cell_type": "code",
   "execution_count": 23,
   "id": "a789da75",
   "metadata": {},
   "outputs": [
    {
     "data": {
      "text/html": [
       "<div>\n",
       "<style scoped>\n",
       "    .dataframe tbody tr th:only-of-type {\n",
       "        vertical-align: middle;\n",
       "    }\n",
       "\n",
       "    .dataframe tbody tr th {\n",
       "        vertical-align: top;\n",
       "    }\n",
       "\n",
       "    .dataframe thead th {\n",
       "        text-align: right;\n",
       "    }\n",
       "</style>\n",
       "<table border=\"1\" class=\"dataframe\">\n",
       "  <thead>\n",
       "    <tr style=\"text-align: right;\">\n",
       "      <th>loyalty_flag</th>\n",
       "      <th>Loyal customer</th>\n",
       "      <th>New customer</th>\n",
       "      <th>Regular customer</th>\n",
       "    </tr>\n",
       "    <tr>\n",
       "      <th>Region</th>\n",
       "      <th></th>\n",
       "      <th></th>\n",
       "      <th></th>\n",
       "    </tr>\n",
       "  </thead>\n",
       "  <tbody>\n",
       "    <tr>\n",
       "      <th>South</th>\n",
       "      <td>205288</td>\n",
       "      <td>129647</td>\n",
       "      <td>336957</td>\n",
       "    </tr>\n",
       "    <tr>\n",
       "      <th>Midwest</th>\n",
       "      <td>142000</td>\n",
       "      <td>91138</td>\n",
       "      <td>233257</td>\n",
       "    </tr>\n",
       "    <tr>\n",
       "      <th>Northeast</th>\n",
       "      <td>120272</td>\n",
       "      <td>68389</td>\n",
       "      <td>176048</td>\n",
       "    </tr>\n",
       "    <tr>\n",
       "      <th>West</th>\n",
       "      <td>103740</td>\n",
       "      <td>59978</td>\n",
       "      <td>158973</td>\n",
       "    </tr>\n",
       "    <tr>\n",
       "      <th>Pacific</th>\n",
       "      <td>65299</td>\n",
       "      <td>38692</td>\n",
       "      <td>97227</td>\n",
       "    </tr>\n",
       "  </tbody>\n",
       "</table>\n",
       "</div>"
      ],
      "text/plain": [
       "loyalty_flag  Loyal customer  New customer  Regular customer\n",
       "Region                                                      \n",
       "South                 205288        129647            336957\n",
       "Midwest               142000         91138            233257\n",
       "Northeast             120272         68389            176048\n",
       "West                  103740         59978            158973\n",
       "Pacific                65299         38692             97227"
      ]
     },
     "execution_count": 23,
     "metadata": {},
     "output_type": "execute_result"
    }
   ],
   "source": [
    "#viewing output\n",
    "region_customers.head()"
   ]
  },
  {
   "cell_type": "code",
   "execution_count": 18,
   "id": "424a72e1",
   "metadata": {},
   "outputs": [
    {
     "data": {
      "image/png": "[encoded data removed]",
      "text/plain": [
       "<Figure size 640x480 with 1 Axes>"
      ]
     },
     "metadata": {},
     "output_type": "display_data"
    }
   ],
   "source": [
    "#creating stacked bar\n",
    "region_customers=region_customers.plot(kind='bar',stacked=True,color=['orange','yellow','blue'])\n",
    "plt.title('Customer Loyalty Types Across Regions')\n",
    "plt.savefig(os.path.join(r'C:\\Users\\Samth\\CareerFoundry Projects\\01-Instacart Basket Analysis\\Analysis 04\\Visualizations\\region_loyal.png'))"
   ]
  },
  {
   "cell_type": "markdown",
   "id": "8d5a804d",
   "metadata": {},
   "source": [
    "Based on the chart, when comparing regions with similarly sized populations such as the Northeast and the West regions, regular customers will account for about 60% of the customer population in an area. This information can help the marketing team create a push for promotions aimed at converting regular customers to loyal customers."
   ]
  },
  {
   "cell_type": "code",
   "execution_count": 25,
   "id": "1b87fd27",
   "metadata": {},
   "outputs": [],
   "source": [
    "#comparing region and department\n",
    "department_region=smallsamp.groupby(['department_names','Region']).size().unstack()"
   ]
  },
  {
   "cell_type": "code",
   "execution_count": 26,
   "id": "e7934b39",
   "metadata": {},
   "outputs": [],
   "source": [
    "#sorting values\n",
    "department_region=department_region.sort_values(by='South',ascending=False)"
   ]
  },
  {
   "cell_type": "code",
   "execution_count": 28,
   "id": "6e31555f",
   "metadata": {},
   "outputs": [
    {
     "data": {
      "image/png": "[encoded data removed]",
      "text/plain": [
       "<Figure size 640x480 with 1 Axes>"
      ]
     },
     "metadata": {},
     "output_type": "display_data"
    }
   ],
   "source": [
    "#creating bar\n",
    "colors=['orange','blue','yellow','teal','#00d6a1']\n",
    "deptbar=department_region.plot(kind='bar',stacked=True, color=colors)\n",
    "plt.title('Department Preferences by Region')\n",
    "plt.xlabel('Departments')\n",
    "plt.ylabel('Orders')\n",
    "plt.savefig(os.path.join(r'C:\\Users\\Samth\\CareerFoundry Projects\\01-Instacart Basket Analysis\\Analysis 04\\Visualizations\\department_region_bar.png'))"
   ]
  },
  {
   "cell_type": "markdown",
   "id": "b8cd0e84",
   "metadata": {},
   "source": [
    "Due to the disporportionate amount of customers in the south compared to other regions, we're unable to make an accurate link between the difference in department habits as one region has more data available compared to others."
   ]
  },
  {
   "cell_type": "markdown",
   "id": "1b0dec1f",
   "metadata": {},
   "source": [
    "# 6 Exporting Final Set"
   ]
  },
  {
   "cell_type": "code",
   "execution_count": 29,
   "id": "dbc8a877",
   "metadata": {},
   "outputs": [],
   "source": [
    "#exporting final sample set\n",
    "smallsamp=smallsamp.to_pickle(os.path.join(r'C:\\Users\\Samth\\CareerFoundry Projects\\01-Instacart Basket Analysis\\Data 02\\Manipulated Data\\projset_small_profile_more_variables.pkl'))"
   ]
  }
 ],
 "metadata": {
  "kernelspec": {
   "display_name": "Python 3 (ipykernel)",
   "language": "python",
   "name": "python3"
  },
  "language_info": {
   "codemirror_mode": {
    "name": "ipython",
    "version": 3
   },
   "file_extension": ".py",
   "mimetype": "text/x-python",
   "name": "python",
   "nbconvert_exporter": "python",
   "pygments_lexer": "ipython3",
   "version": "3.11.5"
  }
 },
 "nbformat": 4,
 "nbformat_minor": 5
}
